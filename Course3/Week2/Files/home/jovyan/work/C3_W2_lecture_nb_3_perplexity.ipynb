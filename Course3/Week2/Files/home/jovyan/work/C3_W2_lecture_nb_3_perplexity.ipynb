{
 "cells": [
  {
   "cell_type": "markdown",
   "metadata": {},
   "source": [
    "# Working with JAX numpy and calculating perplexity: Ungraded Lecture Notebook"
   ]
  },
  {
   "cell_type": "markdown",
   "metadata": {},
   "source": [
    "Normally you would import `numpy` and rename it as `np`. \n",
    "\n",
    "However in this week's assignment you will notice that this convention has been changed. \n",
    "\n",
    "Now standard `numpy` is not renamed and `trax.fastmath.numpy` is renamed as `np`. \n",
    "\n",
    "The rationale behind this change is that you will be using Trax's numpy (which is compatible with JAX) far more often. Trax's numpy supports most of the same functions as the regular numpy so the change won't be noticeable in most cases.\n"
   ]
  },
  {
   "cell_type": "code",
   "execution_count": 1,
   "metadata": {},
   "outputs": [],
   "source": [
    "import numpy\n",
    "import trax\n",
    "import trax.fastmath.numpy as np\n",
    "\n",
    "# Setting random seeds\n",
    "numpy.random.seed(32)"
   ]
  },
  {
   "cell_type": "markdown",
   "metadata": {},
   "source": [
    "One important change to take into consideration is that the types of the resulting objects will be different depending on the version of numpy. With regular numpy you get `numpy.ndarray` but with Trax's numpy you will get `jax.interpreters.xla.DeviceArray`. These two types map to each other. So if you find some error logs mentioning DeviceArray type, don't worry about it, treat it like you would treat an ndarray and march ahead.\n",
    "\n",
    "You can get a randomized numpy array by using the `numpy.random.random()` function.\n",
    "\n",
    "This is one of the functionalities that Trax's numpy does not currently support in the same way as the regular numpy. "
   ]
  },
  {
   "cell_type": "code",
   "execution_count": 2,
   "metadata": {},
   "outputs": [
    {
     "name": "stdout",
     "output_type": "stream",
     "text": [
      "The regular numpy array looks like this:\n",
      "\n",
      " [[0.85888927 0.37271115 0.55512878 0.95565655 0.7366696  0.81620514\n",
      "  0.10108656 0.92848807 0.60910917 0.59655344]\n",
      " [0.09178413 0.34518624 0.66275252 0.44171349 0.55148779 0.70371249\n",
      "  0.58940123 0.04993276 0.56179184 0.76635847]\n",
      " [0.91090833 0.09290995 0.90252139 0.46096041 0.45201847 0.99942549\n",
      "  0.16242374 0.70937058 0.16062408 0.81077677]\n",
      " [0.03514717 0.53488673 0.16650012 0.30841038 0.04506241 0.23857613\n",
      "  0.67483453 0.78238275 0.69520163 0.32895445]\n",
      " [0.49403187 0.52412136 0.29854125 0.46310814 0.98478429 0.50113492\n",
      "  0.39807245 0.72790532 0.86333097 0.02616954]]\n",
      "\n",
      "It is of type: <class 'numpy.ndarray'>\n"
     ]
    }
   ],
   "source": [
    "numpy_array = numpy.random.random((5,10))\n",
    "print(f\"The regular numpy array looks like this:\\n\\n {numpy_array}\\n\")\n",
    "print(f\"It is of type: {type(numpy_array)}\")"
   ]
  },
  {
   "cell_type": "markdown",
   "metadata": {},
   "source": [
    "You can easily cast regular numpy arrays or lists into trax numpy arrays using the `trax.fastmath.numpy.array()` function:"
   ]
  },
  {
   "cell_type": "code",
   "execution_count": 3,
   "metadata": {},
   "outputs": [
    {
     "name": "stderr",
     "output_type": "stream",
     "text": [
      "WARNING:absl:No GPU/TPU found, falling back to CPU. (Set TF_CPP_MIN_LOG_LEVEL=0 and rerun for more info.)\n"
     ]
    },
    {
     "name": "stdout",
     "output_type": "stream",
     "text": [
      "The trax numpy array looks like this:\n",
      "\n",
      " [[0.8588893  0.37271115 0.55512875 0.9556565  0.7366696  0.81620514\n",
      "  0.10108656 0.9284881  0.60910916 0.59655344]\n",
      " [0.09178413 0.34518623 0.6627525  0.44171348 0.5514878  0.70371246\n",
      "  0.58940125 0.04993276 0.56179184 0.7663585 ]\n",
      " [0.91090834 0.09290995 0.9025214  0.46096042 0.45201847 0.9994255\n",
      "  0.16242374 0.7093706  0.16062407 0.81077677]\n",
      " [0.03514718 0.5348867  0.16650012 0.30841038 0.04506241 0.23857613\n",
      "  0.67483455 0.7823827  0.69520164 0.32895446]\n",
      " [0.49403188 0.52412134 0.29854125 0.46310815 0.9847843  0.50113493\n",
      "  0.39807245 0.72790533 0.86333096 0.02616954]]\n",
      "\n",
      "It is of type: <class 'jaxlib.xla_extension.DeviceArray'>\n"
     ]
    }
   ],
   "source": [
    "trax_numpy_array = np.array(numpy_array)\n",
    "print(f\"The trax numpy array looks like this:\\n\\n {trax_numpy_array}\\n\")\n",
    "print(f\"It is of type: {type(trax_numpy_array)}\")"
   ]
  },
  {
   "cell_type": "markdown",
   "metadata": {},
   "source": [
    "Hope you now understand the differences (and similarities) between these two versions and numpy. **Great!**\n",
    "\n",
    "The previous section was a quick look at Trax's numpy. However this notebook also aims to teach you how you can calculate the perplexity of a trained model.\n"
   ]
  },
  {
   "cell_type": "markdown",
   "metadata": {},
   "source": [
    "## Calculating Perplexity"
   ]
  },
  {
   "cell_type": "markdown",
   "metadata": {},
   "source": [
    "The perplexity is a metric that measures how well a probability model predicts a sample and it is commonly used to evaluate language models. It is defined as: \n",
    "\n",
    "$$P(W) = \\sqrt[N]{\\prod_{i=1}^{N} \\frac{1}{P(w_i| w_1,...,w_{i-1})}}$$\n",
    "\n",
    "As an implementation hack, you would usually take the log of that formula (so the computation is less prone to underflow problems). You would also need to take care of the padding, since you do not want to include the padding when calculating the perplexity (to avoid an artificially good metric).\n",
    "\n",
    "After taking the logarithm of $P(W)$ you have:\n",
    "\n",
    "$$log P(W) = {\\log\\left(\\sqrt[N]{\\prod_{i=1}^{N} \\frac{1}{P(w_i| w_1,...,w_{i-1})}}\\right)}$$\n",
    "\n",
    "\n",
    "$$ = \\log\\left(\\left(\\prod_{i=1}^{N} \\frac{1}{P(w_i| w_1,...,w_{i-1})}\\right)^{\\frac{1}{N}}\\right)$$\n",
    "\n",
    "$$ = \\log\\left(\\left({\\prod_{i=1}^{N}{P(w_i| w_1,...,w_{i-1})}}\\right)^{-\\frac{1}{N}}\\right)$$\n",
    "\n",
    "$$ = -\\frac{1}{N}{\\log\\left({\\prod_{i=1}^{N}{P(w_i| w_1,...,w_{i-1})}}\\right)} $$\n",
    "\n",
    "$$ = -\\frac{1}{N}{{\\sum_{i=1}^{N}{\\log P(w_i| w_1,...,w_{i-1})}}} $$\n"
   ]
  },
  {
   "cell_type": "markdown",
   "metadata": {},
   "source": [
    "You will be working with a real example from this week's assignment. The example is made up of:\n",
    "   - `predictions` : log probabilities for each element in the vocabulary for 32 sequences with 64 elements (after padding).\n",
    "   - `targets` : 32 observed sequences of 64 elements (after padding)."
   ]
  },
  {
   "cell_type": "code",
   "execution_count": 4,
   "metadata": {},
   "outputs": [
    {
     "name": "stdout",
     "output_type": "stream",
     "text": [
      "predictions has shape: (32, 64, 256)\n",
      "targets has shape: (32, 64)\n"
     ]
    }
   ],
   "source": [
    "from trax import layers as tl\n",
    "\n",
    "# Load from .npy files\n",
    "predictions = numpy.load('predictions.npy')\n",
    "targets = numpy.load('targets.npy')\n",
    "\n",
    "# Cast to jax.interpreters.xla.DeviceArray\n",
    "predictions = np.array(predictions)\n",
    "targets = np.array(targets)\n",
    "\n",
    "# Print shapes\n",
    "print(f'predictions has shape: {predictions.shape}')\n",
    "print(f'targets has shape: {targets.shape}')"
   ]
  },
  {
   "cell_type": "code",
   "execution_count": 18,
   "metadata": {},
   "outputs": [
    {
     "data": {
      "text/plain": [
       "DeviceArray([110, 110, 102, 105, 105,  39, 120, 111, 114, 111, 104, 115,\n",
       "             104, 110, 110, 105, 105, 110, 108, 110, 117, 111, 105, 101,\n",
       "             117, 104, 101, 101, 105,  32, 100, 111], dtype=int32)"
      ]
     },
     "execution_count": 18,
     "metadata": {},
     "output_type": "execute_result"
    }
   ],
   "source": [
    "targets[:,1]"
   ]
  },
  {
   "cell_type": "code",
   "execution_count": 12,
   "metadata": {},
   "outputs": [
    {
     "data": {
      "text/plain": [
       "DeviceArray([-15.887024 , -16.101957 , -15.914328 , -15.774568 ,\n",
       "             -15.886257 , -15.810221 , -15.904676 , -15.858971 ,\n",
       "             -15.84778  , -10.956048 , -15.8016205, -15.727871 ,\n",
       "             -15.751923 , -15.997171 , -15.872484 , -15.838247 ,\n",
       "             -15.758919 , -15.754581 , -15.521418 , -15.952777 ,\n",
       "             -15.857069 , -15.822588 , -15.924866 , -15.703846 ,\n",
       "             -15.7428   , -15.713692 , -15.872759 , -15.7525215,\n",
       "             -15.879247 , -15.779745 , -15.767151 , -15.744882 ,\n",
       "              -1.9022894, -14.055466 , -15.680822 , -15.806705 ,\n",
       "             -15.880778 , -15.69764  , -18.240597 ,  -7.3028717,\n",
       "             -13.911229 , -29.643524 , -15.862359 , -15.724748 ,\n",
       "             -13.854401 ,  -4.789949 , -12.746739 , -15.775049 ,\n",
       "             -13.01537  , -14.055964 , -15.4995365, -14.464556 ,\n",
       "             -15.756357 , -16.36503  , -15.373621 , -14.709938 ,\n",
       "             -16.035614 , -14.853214 , -21.757198 , -17.631693 ,\n",
       "             -15.823291 , -15.798603 , -15.853468 , -18.799265 ,\n",
       "             -15.898948 , -14.168339 , -16.997934 ,  -9.707783 ,\n",
       "             -13.157395 , -19.744328 , -17.9777   , -16.83376  ,\n",
       "             -23.545643 , -15.407013 , -16.830761 , -22.391342 ,\n",
       "             -10.758316 , -12.764407 , -13.0784025, -26.856575 ,\n",
       "             -13.303669 , -22.22977  , -15.774748 , -18.435844 ,\n",
       "             -14.901314 , -12.352556 , -16.597477 , -17.853546 ,\n",
       "             -13.117199 , -17.061337 , -14.10549  , -11.717956 ,\n",
       "             -15.825363 , -19.58076  , -15.88241  , -15.883957 ,\n",
       "             -15.785124 , -21.242405 ,  -3.136179 ,  -3.5535402,\n",
       "              -4.2149286, -25.356203 ,  -3.5818934,  -3.6168723,\n",
       "             -11.518715 ,  -6.772686 , -12.889878 , -18.42036  ,\n",
       "              -2.3973207,  -3.6192422,  -1.1341286, -25.466019 ,\n",
       "              -3.346972 ,  -6.8842354,  -2.6028004,  -2.447483 ,\n",
       "              -3.1260986,  -5.719994 ,  -5.7601204,  -4.39911  ,\n",
       "             -10.219925 , -10.399691 , -12.700366 , -15.835456 ,\n",
       "             -15.100212 , -15.779774 , -15.803916 , -15.880232 ,\n",
       "             -15.743317 , -15.805506 , -15.765671 , -15.925491 ,\n",
       "             -15.77907  , -15.831953 , -15.812304 , -15.75901  ,\n",
       "             -15.7486   , -15.90711  , -15.691151 , -15.876211 ,\n",
       "             -15.808924 , -15.85988  , -15.855417 , -15.745396 ,\n",
       "             -15.842656 , -15.74395  , -15.789841 , -15.796619 ,\n",
       "             -15.872707 , -15.689882 , -15.844059 , -15.724349 ,\n",
       "             -15.696114 , -15.800997 , -15.803024 , -15.865661 ,\n",
       "             -15.896942 , -15.756725 , -15.723839 , -15.8736515,\n",
       "             -15.719892 , -15.704478 , -15.820437 , -15.760489 ,\n",
       "             -15.758341 , -15.846554 , -15.740227 , -15.812323 ,\n",
       "             -15.816069 , -15.81531  , -15.905188 , -15.778736 ,\n",
       "             -15.82241  , -15.828175 , -15.784563 , -15.802319 ,\n",
       "             -15.821187 , -15.920986 , -15.758665 , -15.744399 ,\n",
       "             -15.689194 , -15.69375  , -15.915805 , -15.891615 ,\n",
       "             -15.810272 , -15.749775 , -15.840849 , -15.880556 ,\n",
       "             -15.712407 , -15.925304 , -15.919146 , -15.877413 ,\n",
       "             -15.926934 , -15.737341 , -15.723098 , -15.822107 ,\n",
       "             -15.871605 , -15.776457 , -15.812107 , -15.805231 ,\n",
       "             -15.952425 , -15.823671 , -15.710852 , -15.872116 ,\n",
       "             -15.921854 , -15.96068  , -15.889031 , -15.862967 ,\n",
       "             -15.792922 , -15.832754 , -15.817293 , -15.862746 ,\n",
       "             -15.855654 , -15.787428 , -15.899034 , -15.894899 ,\n",
       "             -15.767643 , -15.842131 , -15.881454 , -15.682538 ,\n",
       "             -15.835304 , -15.860881 , -15.939687 , -15.96213  ,\n",
       "             -15.786634 , -15.8578205, -15.873575 , -15.906736 ,\n",
       "             -15.736692 , -15.897177 , -15.95863  , -15.829911 ,\n",
       "             -15.81184  , -15.845222 , -15.806135 , -15.909441 ,\n",
       "             -15.901569 , -15.628155 , -15.8216305, -15.789461 ,\n",
       "             -15.821432 , -15.814434 , -15.718035 , -15.829765 ,\n",
       "             -15.728733 , -15.682896 , -15.893646 , -15.729263 ,\n",
       "             -15.671007 , -15.803071 , -15.845027 , -15.826075 ,\n",
       "             -15.868961 , -15.740339 , -15.764511 , -15.746195 ],            dtype=float32)"
      ]
     },
     "execution_count": 12,
     "metadata": {},
     "output_type": "execute_result"
    }
   ],
   "source": [
    "predictions[1,1,:]"
   ]
  },
  {
   "cell_type": "markdown",
   "metadata": {},
   "source": [
    "Notice that the predictions have an extra dimension with the same length as the size of the vocabulary used.\n",
    "\n",
    "Because of this you will need a way of reshaping `targets` to match this shape. For this you can use `trax.layers.one_hot()`.\n",
    "\n",
    "Notice that `predictions.shape[-1]` will return the size of the last dimension of `predictions`."
   ]
  },
  {
   "cell_type": "code",
   "execution_count": 5,
   "metadata": {},
   "outputs": [
    {
     "name": "stdout",
     "output_type": "stream",
     "text": [
      "reshaped_targets has shape: (32, 64, 256)\n"
     ]
    }
   ],
   "source": [
    "reshaped_targets = tl.one_hot(targets, predictions.shape[-1]) #trax's one_hot function takes the input as one_hot(x, n_categories, dtype=optional)\n",
    "print(f'reshaped_targets has shape: {reshaped_targets.shape}')"
   ]
  },
  {
   "cell_type": "code",
   "execution_count": 13,
   "metadata": {},
   "outputs": [
    {
     "data": {
      "text/plain": [
       "DeviceArray([0., 0., 0., 0., 0., 0., 0., 0., 0., 0., 0., 0., 0., 0., 0.,\n",
       "             0., 0., 0., 0., 0., 0., 0., 0., 0., 0., 0., 0., 0., 0., 0.,\n",
       "             0., 0., 0., 0., 0., 0., 0., 0., 0., 0., 0., 0., 0., 0., 0.,\n",
       "             0., 0., 0., 0., 0., 0., 0., 0., 0., 0., 0., 0., 0., 0., 0.,\n",
       "             0., 0., 0., 0., 0., 0., 0., 0., 0., 0., 0., 0., 0., 0., 0.,\n",
       "             0., 0., 0., 0., 0., 0., 0., 0., 0., 0., 0., 0., 0., 0., 0.,\n",
       "             0., 0., 0., 0., 0., 0., 0., 0., 0., 0., 0., 0., 0., 0., 0.,\n",
       "             0., 0., 0., 0., 0., 1., 0., 0., 0., 0., 0., 0., 0., 0., 0.,\n",
       "             0., 0., 0., 0., 0., 0., 0., 0., 0., 0., 0., 0., 0., 0., 0.,\n",
       "             0., 0., 0., 0., 0., 0., 0., 0., 0., 0., 0., 0., 0., 0., 0.,\n",
       "             0., 0., 0., 0., 0., 0., 0., 0., 0., 0., 0., 0., 0., 0., 0.,\n",
       "             0., 0., 0., 0., 0., 0., 0., 0., 0., 0., 0., 0., 0., 0., 0.,\n",
       "             0., 0., 0., 0., 0., 0., 0., 0., 0., 0., 0., 0., 0., 0., 0.,\n",
       "             0., 0., 0., 0., 0., 0., 0., 0., 0., 0., 0., 0., 0., 0., 0.,\n",
       "             0., 0., 0., 0., 0., 0., 0., 0., 0., 0., 0., 0., 0., 0., 0.,\n",
       "             0., 0., 0., 0., 0., 0., 0., 0., 0., 0., 0., 0., 0., 0., 0.,\n",
       "             0., 0., 0., 0., 0., 0., 0., 0., 0., 0., 0., 0., 0., 0., 0.,\n",
       "             0.], dtype=float32)"
      ]
     },
     "execution_count": 13,
     "metadata": {},
     "output_type": "execute_result"
    }
   ],
   "source": [
    "reshaped_targets[1,1,:]"
   ]
  },
  {
   "cell_type": "markdown",
   "metadata": {},
   "source": [
    "By calculating the product of the predictions and the reshaped targets and summing across the last dimension, the total log propbability of each observed element within the sequences can be computed:"
   ]
  },
  {
   "cell_type": "code",
   "execution_count": 6,
   "metadata": {},
   "outputs": [],
   "source": [
    "log_p = np.sum(predictions * reshaped_targets, axis= -1)"
   ]
  },
  {
   "cell_type": "code",
   "execution_count": 9,
   "metadata": {},
   "outputs": [
    {
     "data": {
      "text/plain": [
       "(32, 64)"
      ]
     },
     "execution_count": 9,
     "metadata": {},
     "output_type": "execute_result"
    }
   ],
   "source": [
    "log_p.shape"
   ]
  },
  {
   "cell_type": "markdown",
   "metadata": {},
   "source": [
    "Now you will need to account for the padding so this metric is not artificially deflated (since a lower perplexity means a better model). For identifying which elements are padding and which are not, you can use `np.equal()` and get a tensor with `1s` in the positions of actual values and `0s` where there are paddings."
   ]
  },
  {
   "cell_type": "code",
   "execution_count": 7,
   "metadata": {},
   "outputs": [
    {
     "name": "stdout",
     "output_type": "stream",
     "text": [
      "non_pad has shape: (32, 64)\n",
      "\n",
      "non_pad looks like this: \n",
      "\n",
      " [[1. 1. 1. ... 0. 0. 0.]\n",
      " [1. 1. 1. ... 0. 0. 0.]\n",
      " [1. 1. 1. ... 0. 0. 0.]\n",
      " ...\n",
      " [1. 1. 1. ... 0. 0. 0.]\n",
      " [1. 1. 1. ... 0. 0. 0.]\n",
      " [1. 1. 1. ... 0. 0. 0.]]\n"
     ]
    }
   ],
   "source": [
    "non_pad = 1.0 - np.equal(targets, 0)\n",
    "print(f'non_pad has shape: {non_pad.shape}\\n')\n",
    "print(f'non_pad looks like this: \\n\\n {non_pad}')"
   ]
  },
  {
   "cell_type": "markdown",
   "metadata": {},
   "source": [
    "By computing the product of the log probabilities and the non_pad tensor you remove the effect of padding on the metric:"
   ]
  },
  {
   "cell_type": "code",
   "execution_count": 14,
   "metadata": {},
   "outputs": [
    {
     "name": "stdout",
     "output_type": "stream",
     "text": [
      "real log probabilities still have shape: (32, 64)\n"
     ]
    }
   ],
   "source": [
    "real_log_p = log_p * non_pad\n",
    "print(f'real log probabilities still have shape: {real_log_p.shape}')"
   ]
  },
  {
   "cell_type": "markdown",
   "metadata": {},
   "source": [
    "You can check the effect of filtering out the padding by looking at the two log probabilities tensors:"
   ]
  },
  {
   "cell_type": "code",
   "execution_count": 15,
   "metadata": {},
   "outputs": [
    {
     "name": "stdout",
     "output_type": "stream",
     "text": [
      "log probabilities before filtering padding: \n",
      "\n",
      " [[ -5.396545    -1.0311184   -0.66916656 ... -22.37673    -23.18771\n",
      "  -21.843483  ]\n",
      " [ -4.5857706   -1.1341286   -8.538033   ... -20.15686    -26.837097\n",
      "  -23.57502   ]\n",
      " [ -5.2223887   -1.2824144   -0.17312431 ... -21.328228   -19.854412\n",
      "  -33.88444   ]\n",
      " ...\n",
      " [ -5.396545   -17.291681    -4.360766   ... -20.825802   -21.065838\n",
      "  -22.443115  ]\n",
      " [ -5.9313164  -14.247417    -0.2637329  ... -26.743248   -18.38433\n",
      "  -22.355278  ]\n",
      " [ -5.670536    -0.10595131   0.         ... -23.332523   -28.087376\n",
      "  -23.878807  ]]\n",
      "\n",
      "log probabilities after filtering padding: \n",
      "\n",
      " [[ -5.396545    -1.0311184   -0.66916656 ...  -0.          -0.\n",
      "   -0.        ]\n",
      " [ -4.5857706   -1.1341286   -8.538033   ...  -0.          -0.\n",
      "   -0.        ]\n",
      " [ -5.2223887   -1.2824144   -0.17312431 ...  -0.          -0.\n",
      "   -0.        ]\n",
      " ...\n",
      " [ -5.396545   -17.291681    -4.360766   ...  -0.          -0.\n",
      "   -0.        ]\n",
      " [ -5.9313164  -14.247417    -0.2637329  ...  -0.          -0.\n",
      "   -0.        ]\n",
      " [ -5.670536    -0.10595131   0.         ...  -0.          -0.\n",
      "   -0.        ]]\n"
     ]
    }
   ],
   "source": [
    "print(f'log probabilities before filtering padding: \\n\\n {log_p}\\n')\n",
    "print(f'log probabilities after filtering padding: \\n\\n {real_log_p}')"
   ]
  },
  {
   "cell_type": "markdown",
   "metadata": {},
   "source": [
    "Finally, to get the average log perplexity of the model across all sequences in the batch, you will sum the log probabilities in each sequence and divide by the number of non padding elements (which will give you the negative log perplexity per sequence). After that, you can get the mean of the log perplexity across all sequences in the batch."
   ]
  },
  {
   "cell_type": "code",
   "execution_count": 16,
   "metadata": {},
   "outputs": [
    {
     "name": "stdout",
     "output_type": "stream",
     "text": [
      "The log perplexity and perplexity of the model are respectively: 2.621184825897217 and 13.752007484436035\n"
     ]
    }
   ],
   "source": [
    "log_ppx = np.sum(real_log_p, axis=1) / np.sum(non_pad, axis=1)\n",
    "log_ppx = np.mean(-log_ppx)\n",
    "print(f'The log perplexity and perplexity of the model are respectively: {log_ppx} and {np.exp(log_ppx)}')"
   ]
  },
  {
   "cell_type": "markdown",
   "metadata": {},
   "source": [
    "**Congratulations on finishing this lecture notebook!** Now you should have a clear understanding of how to work with Trax's numpy and how to compute the perplexity to evaluate your language models. **Keep it up!**"
   ]
  }
 ],
 "metadata": {
  "kernelspec": {
   "display_name": "Python 3",
   "language": "python",
   "name": "python3"
  },
  "language_info": {
   "codemirror_mode": {
    "name": "ipython",
    "version": 3
   },
   "file_extension": ".py",
   "mimetype": "text/x-python",
   "name": "python",
   "nbconvert_exporter": "python",
   "pygments_lexer": "ipython3",
   "version": "3.7.6"
  }
 },
 "nbformat": 4,
 "nbformat_minor": 4
}
